{
 "cells": [
  {
   "cell_type": "code",
   "execution_count": 5,
   "id": "c68d5d01",
   "metadata": {},
   "outputs": [],
   "source": [
    "import os\n",
    "import pandas as pd\n",
    "\n",
    "# Load data\n",
    "df = pd.read_csv(r\"C:\\10x AIMastery\\Insurance-risk-analytics\\SM\\data\\insurance.csv\")\n",
    "\n",
    "# Filter rows\n",
    "median_charges = df['charges'].median()\n",
    "df_cleaned = df[df['charges'] > median_charges]\n",
    "\n",
    "# Create directory if it doesn't exist\n",
    "os.makedirs('data', exist_ok=True)\n",
    "\n",
    "# Save modified dataset\n",
    "df_cleaned.to_csv(r\"C:\\10x AIMastery\\Insurance-risk-analytics\\SM\\data\\insurance_v2.csv\", index=False)"
   ]
  },
  {
   "cell_type": "code",
   "execution_count": null,
   "id": "31f0fcba",
   "metadata": {},
   "outputs": [],
   "source": []
  }
 ],
 "metadata": {
  "kernelspec": {
   "display_name": "venv",
   "language": "python",
   "name": "python3"
  },
  "language_info": {
   "codemirror_mode": {
    "name": "ipython",
    "version": 3
   },
   "file_extension": ".py",
   "mimetype": "text/x-python",
   "name": "python",
   "nbconvert_exporter": "python",
   "pygments_lexer": "ipython3",
   "version": "3.11.9"
  }
 },
 "nbformat": 4,
 "nbformat_minor": 5
}

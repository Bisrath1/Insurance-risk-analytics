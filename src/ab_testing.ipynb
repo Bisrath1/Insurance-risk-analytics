{
 "cells": [
  {
   "cell_type": "code",
   "execution_count": 1,
   "id": "46c7f735",
   "metadata": {},
   "outputs": [],
   "source": [
    "import pandas as pd\n",
    "import scipy.stats as stats\n",
    "import seaborn as sns\n",
    "import matplotlib.pyplot as plt\n"
   ]
  },
  {
   "cell_type": "code",
   "execution_count": 2,
   "id": "f0cb72c9",
   "metadata": {},
   "outputs": [],
   "source": [
    "# Load data\n",
    "df = pd.read_csv(r\"C:\\10x AIMastery\\Insurance-risk-analytics\\SM\\data\\insurance.csv\")\n"
   ]
  },
  {
   "cell_type": "code",
   "execution_count": 3,
   "id": "ee8f17ff",
   "metadata": {},
   "outputs": [
    {
     "name": "stdout",
     "output_type": "stream",
     "text": [
      "Age Distribution by Region:\n",
      "            count       mean        std   min    25%   50%   75%   max\n",
      "region                                                               \n",
      "northeast  324.0  39.268519  14.069007  18.0  27.00  39.5  51.0  64.0\n",
      "northwest  325.0  39.196923  14.051646  19.0  26.00  39.0  51.0  64.0\n",
      "southeast  364.0  38.939560  14.164585  18.0  26.75  39.0  51.0  64.0\n",
      "southwest  325.0  39.455385  13.959886  19.0  27.00  39.0  51.0  64.0\n",
      "\n",
      "Age Distribution by Sex:\n",
      "         count       mean        std   min   25%   50%    75%   max\n",
      "sex                                                               \n",
      "female  662.0  39.503021  14.054223  18.0  27.0  40.0  51.75  64.0\n",
      "male    676.0  38.917160  14.050141  18.0  26.0  39.0  51.00  64.0\n"
     ]
    }
   ],
   "source": [
    "# Data Segmentation\n",
    "# Check group equivalence (e.g., age distribution by region and sex)\n",
    "print(\"Age Distribution by Region:\\n\", df.groupby('region')['age'].describe())\n",
    "print(\"\\nAge Distribution by Sex:\\n\", df.groupby('sex')['age'].describe())"
   ]
  },
  {
   "cell_type": "code",
   "execution_count": 4,
   "id": "a0452207",
   "metadata": {},
   "outputs": [
    {
     "name": "stdout",
     "output_type": "stream",
     "text": [
      "\n",
      "ANOVA for Charges by Region: F=2.97, p-value=0.0309\n",
      "Reject H₀: Significant difference in charges across regions\n"
     ]
    }
   ],
   "source": [
    "# Hypothesis 1: No difference in mean charges across regions\n",
    "# ANOVA test\n",
    "regions = df['region'].unique()\n",
    "charges_by_region = [df[df['region'] == r]['charges'] for r in regions]\n",
    "f_stat, p_value_region = stats.f_oneway(*charges_by_region)\n",
    "print(f\"\\nANOVA for Charges by Region: F={f_stat:.2f}, p-value={p_value_region:.4f}\")\n",
    "if p_value_region < 0.05:\n",
    "    print(\"Reject H₀: Significant difference in charges across regions\")\n",
    "else:\n",
    "    print(\"Fail to reject H₀: No significant difference in charges across regions\")"
   ]
  },
  {
   "cell_type": "code",
   "execution_count": 5,
   "id": "2a3f4498",
   "metadata": {},
   "outputs": [
    {
     "name": "stdout",
     "output_type": "stream",
     "text": [
      "t-test southwest vs southeast: t=-2.43, p-value=0.0154\n",
      "t-test southwest vs northwest: t=-0.08, p-value=0.9366\n",
      "t-test southwest vs northeast: t=-1.18, p-value=0.2373\n",
      "t-test southeast vs northwest: t=2.39, p-value=0.0169\n",
      "t-test southeast vs northeast: t=1.36, p-value=0.1733\n",
      "t-test northwest vs northeast: t=-1.13, p-value=0.2597\n"
     ]
    }
   ],
   "source": [
    "# Pairwise t-tests (for insight)\n",
    "from itertools import combinations\n",
    "for r1, r2 in combinations(regions, 2):\n",
    "    t_stat, p_val = stats.ttest_ind(df[df['region'] == r1]['charges'], df[df['region'] == r2]['charges'])\n",
    "    print(f\"t-test {r1} vs {r2}: t={t_stat:.2f}, p-value={p_val:.4f}\")"
   ]
  },
  {
   "cell_type": "code",
   "execution_count": 6,
   "id": "aec7f1fc",
   "metadata": {},
   "outputs": [
    {
     "name": "stdout",
     "output_type": "stream",
     "text": [
      "\n",
      "t-test for Charges by Sex: t=2.10, p-value=0.0361\n",
      "Reject H₀: Significant difference in charges between male and female\n"
     ]
    }
   ],
   "source": [
    "# Hypothesis 2: No difference in mean charges between sex\n",
    "male_charges = df[df['sex'] == 'male']['charges']\n",
    "female_charges = df[df['sex'] == 'female']['charges']\n",
    "t_stat, p_value_sex = stats.ttest_ind(male_charges, female_charges)\n",
    "print(f\"\\nt-test for Charges by Sex: t={t_stat:.2f}, p-value={p_value_sex:.4f}\")\n",
    "if p_value_sex < 0.05:\n",
    "    print(\"Reject H₀: Significant difference in charges between male and female\")\n",
    "else:\n",
    "    print(\"Fail to reject H₀: No significant difference in charges between male and female\")"
   ]
  },
  {
   "cell_type": "code",
   "execution_count": 10,
   "id": "7e6cb1f3",
   "metadata": {},
   "outputs": [
    {
     "name": "stderr",
     "output_type": "stream",
     "text": [
      "C:\\Users\\user\\AppData\\Local\\Temp\\ipykernel_4616\\1148012232.py:3: FutureWarning: \n",
      "\n",
      "Passing `palette` without assigning `hue` is deprecated and will be removed in v0.14.0. Assign the `x` variable to `hue` and set `legend=False` for the same effect.\n",
      "\n",
      "  sns.boxplot(x='region', y='charges', data=df, palette='viridis')\n"
     ]
    }
   ],
   "source": [
    "# Visualization 1: Charges by Region (Box Plot)\n",
    "plt.figure(figsize=(10, 6))\n",
    "sns.boxplot(x='region', y='charges', data=df, palette='viridis')\n",
    "plt.title('Charges Distribution by Region')\n",
    "plt.xlabel('Region')\n",
    "plt.ylabel('Charges')\n",
    "plt.savefig(r'C:\\10x AIMastery\\Insurance-risk-analytics\\figures\\ab_test_region_charges.png')\n",
    "plt.close()"
   ]
  },
  {
   "cell_type": "code",
   "execution_count": 12,
   "id": "8f98e0b2",
   "metadata": {},
   "outputs": [
    {
     "name": "stderr",
     "output_type": "stream",
     "text": [
      "C:\\Users\\user\\AppData\\Local\\Temp\\ipykernel_4616\\4086383295.py:3: FutureWarning: \n",
      "\n",
      "Passing `palette` without assigning `hue` is deprecated and will be removed in v0.14.0. Assign the `x` variable to `hue` and set `legend=False` for the same effect.\n",
      "\n",
      "  sns.boxplot(x='sex', y='charges', data=df, palette='Set2')\n"
     ]
    }
   ],
   "source": [
    "\n",
    "# Visualization 2: Charges by Sex (Box Plot)\n",
    "plt.figure(figsize=(10, 6))\n",
    "sns.boxplot(x='sex', y='charges', data=df, palette='Set2')\n",
    "plt.title('Charges Distribution by Sex')\n",
    "plt.xlabel('Sex')\n",
    "plt.ylabel('Charges')\n",
    "plt.savefig(r'C:\\10x AIMastery\\Insurance-risk-analytics\\figures\\ab_test_sex_charges.png')\n",
    "plt.close()"
   ]
  },
  {
   "cell_type": "code",
   "execution_count": 14,
   "id": "69e1805d",
   "metadata": {},
   "outputs": [],
   "source": [
    "# Visualization 3: Charges by Region and Smoker Status (Grouped Bar Plot)\n",
    "plt.figure(figsize=(10, 6))\n",
    "sns.barplot(x='region', y='charges', hue='smoker', data=df, palette='coolwarm')\n",
    "plt.title('Average Charges by Region and Smoker Status')\n",
    "plt.xlabel('Region')\n",
    "plt.ylabel('Average Charges')\n",
    "plt.savefig(r'C:\\10x AIMastery\\Insurance-risk-analytics\\figures\\ab_test_region_smoker.png')\n",
    "plt.close()"
   ]
  },
  {
   "cell_type": "code",
   "execution_count": null,
   "id": "2a264e41",
   "metadata": {},
   "outputs": [],
   "source": []
  }
 ],
 "metadata": {
  "kernelspec": {
   "display_name": "venv",
   "language": "python",
   "name": "python3"
  },
  "language_info": {
   "codemirror_mode": {
    "name": "ipython",
    "version": 3
   },
   "file_extension": ".py",
   "mimetype": "text/x-python",
   "name": "python",
   "nbconvert_exporter": "python",
   "pygments_lexer": "ipython3",
   "version": "3.11.9"
  }
 },
 "nbformat": 4,
 "nbformat_minor": 5
}

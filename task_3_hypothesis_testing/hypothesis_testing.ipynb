{
 "cells": [
  {
   "cell_type": "code",
   "execution_count": 3,
   "id": "0f02de77",
   "metadata": {},
   "outputs": [],
   "source": [
    "# task_3_hypothesis_testing/calculate_metrics.py\n",
    "import pandas as pd\n",
    "import numpy as np\n",
    "from pathlib import Path"
   ]
  },
  {
   "cell_type": "code",
   "execution_count": 4,
   "id": "af78a889",
   "metadata": {},
   "outputs": [],
   "source": [
    "# Load data (assuming DVC-tracked data)\n",
    "data =  pd.read_csv(r\"C:\\10x AIMastery\\Insurance-risk-analytics\\data\\insurance_data.csv.dvc\") # Update path as needed"
   ]
  },
  {
   "cell_type": "code",
   "execution_count": 5,
   "id": "211fe793",
   "metadata": {},
   "outputs": [],
   "source": [
    "# task_3_hypothesis_testing/hypothesis_testing.py\n",
    "from scipy.stats import f_oneway, chi2_contingency"
   ]
  },
  {
   "cell_type": "code",
   "execution_count": 17,
   "id": "3f5b6928",
   "metadata": {},
   "outputs": [
    {
     "name": "stdout",
     "output_type": "stream",
     "text": [
      "Available columns: ['outs:', 'TotalPremium', 'TotalClaims', 'Province', 'Gender', 'VehicleType', 'RegistrationYear', 'SumInsured', 'CoverType', 'TransactionMonth', 'PostalCode', 'HasClaim', 'Margin']\n",
      "HasClaim unique values: [False  True]\n",
      "Margin sample values: 0      NaN\n",
      "1      NaN\n",
      "2      NaN\n",
      "3      NaN\n",
      "4    900.0\n",
      "Name: Margin, dtype: float64\n",
      "Insufficient data for ANOVA on Claim Severity (fewer than 2 provinces with claims).\n",
      "Fail to reject H01: No significant differences in Claim Severity.\n"
     ]
    }
   ],
   "source": [
    "# Create required columns if they don't exist\n",
    "if 'HasClaim' not in data.columns:\n",
    "    data['HasClaim'] = data['TotalClaims'] > 0\n",
    "if 'Margin' not in data.columns:\n",
    "    data['Margin'] = data['TotalPremium'] - data['TotalClaims']\n",
    "\n",
    "# Verify available columns and data\n",
    "print(\"Available columns:\", data.columns.tolist())\n",
    "print(\"HasClaim unique values:\", data['HasClaim'].unique())\n",
    "print(\"Margin sample values:\", data['Margin'].head())\n",
    "\n",
    "# ANOVA for Claim Severity across provinces\n",
    "severity_by_province = [\n",
    "    data.loc[(data['Province'] == p) & data['HasClaim'], 'TotalClaims'].dropna()\n",
    "    for p in data['Province'].unique() if data.loc[(data['Province'] == p) & data['HasClaim'], 'TotalClaims'].size > 0\n",
    "]\n",
    "p_value_severity = None  # Initialize to avoid NameError\n",
    "if len(severity_by_province) >= 2:  # Ensure at least 2 groups for ANOVA\n",
    "    f_stat, p_value_severity = f_oneway(*severity_by_province)\n",
    "    print(f\"ANOVA for Claim Severity across Provinces: p-value = {p_value_severity:.4f}\")\n",
    "else:\n",
    "    print(\"Insufficient data for ANOVA on Claim Severity (fewer than 2 provinces with claims).\")\n",
    "\n",
    "# Interpret result\n",
    "severity_result = (\n",
    "    \"Reject H01: Significant differences in Claim Severity across provinces.\"\n",
    "    if p_value_severity is not None and p_value_severity < 0.05 and len(severity_by_province) >= 2\n",
    "    else \"Fail to reject H01: No significant differences in Claim Severity.\"\n",
    ")\n",
    "print(severity_result)\n",
    "\n",
    "# Save results with UTF-8 encoding\n",
    "with open(r\"C:\\10x AIMastery\\Insurance-risk-analytics\\task_3_hypothesis_testing\\h01_severity_results.txt\", \"w\", encoding=\"utf-8\") as f:\n",
    "    f.write(severity_result)"
   ]
  },
  {
   "cell_type": "code",
   "execution_count": 19,
   "id": "d0894857",
   "metadata": {},
   "outputs": [],
   "source": [
    "from scipy.stats import ttest_ind\n",
    "from statsmodels.stats.proportion import proportions_ztest\n",
    "\n",
    "# Filter for Women and Men\n",
    "women = data[data['Gender'] == 'Female']\n",
    "men = data[data['Gender'] == 'Male']"
   ]
  },
  {
   "cell_type": "code",
   "execution_count": 20,
   "id": "0b3969f9",
   "metadata": {},
   "outputs": [
    {
     "name": "stdout",
     "output_type": "stream",
     "text": [
      "Z-test for Claim Frequency (Women vs. Men): p-value = nan\n"
     ]
    },
    {
     "name": "stderr",
     "output_type": "stream",
     "text": [
      "c:\\10x AIMastery\\Insurance-risk-analytics\\venv\\Lib\\site-packages\\statsmodels\\stats\\proportion.py:1004: RuntimeWarning: invalid value encountered in divide\n",
      "  prop = count * 1. / nobs\n",
      "c:\\10x AIMastery\\Insurance-risk-analytics\\venv\\Lib\\site-packages\\statsmodels\\stats\\proportion.py:1020: RuntimeWarning: divide by zero encountered in divide\n",
      "  nobs_fact = np.sum(1. / nobs)\n",
      "c:\\10x AIMastery\\Insurance-risk-analytics\\venv\\Lib\\site-packages\\statsmodels\\stats\\proportion.py:1023: RuntimeWarning: invalid value encountered in scalar multiply\n",
      "  var_ = p_pooled * (1 - p_pooled) * nobs_fact\n"
     ]
    }
   ],
   "source": [
    "# Z-test for Claim Frequency\n",
    "count = [women['HasClaim'].sum(), men['HasClaim'].sum()]\n",
    "nobs = [women['HasClaim'].count(), men['HasClaim'].count()]\n",
    "z_stat, p_value_freq = proportions_ztest(count, nobs)\n",
    "print(f\"Z-test for Claim Frequency (Women vs. Men): p-value = {p_value_freq:.4f}\")"
   ]
  },
  {
   "cell_type": "code",
   "execution_count": 21,
   "id": "5ced342c",
   "metadata": {},
   "outputs": [
    {
     "name": "stdout",
     "output_type": "stream",
     "text": [
      "T-test for Claim Severity (Women vs. Men): p-value = nan\n"
     ]
    },
    {
     "name": "stderr",
     "output_type": "stream",
     "text": [
      "c:\\10x AIMastery\\Insurance-risk-analytics\\venv\\Lib\\site-packages\\scipy\\_lib\\deprecation.py:234: SmallSampleWarning: One or more sample arguments is too small; all returned values will be NaN. See documentation for sample size requirements.\n",
      "  return f(*args, **kwargs)\n"
     ]
    }
   ],
   "source": [
    "# T-test for Claim Severity\n",
    "severity_women = women.loc[women['HasClaim'], 'TotalClaims'].dropna()\n",
    "severity_men = men.loc[men['HasClaim'], 'TotalClaims'].dropna()\n",
    "t_stat, p_value_sev = ttest_ind(severity_women, severity_men, equal_var=False)\n",
    "print(f\"T-test for Claim Severity (Women vs. Men): p-value = {p_value_sev:.4f}\")"
   ]
  },
  {
   "cell_type": "code",
   "execution_count": 22,
   "id": "bd17399e",
   "metadata": {},
   "outputs": [
    {
     "name": "stdout",
     "output_type": "stream",
     "text": [
      "Fail to reject H₀: No significant differences in Claim Frequency.\n"
     ]
    }
   ],
   "source": [
    "# Interpret results\n",
    "if p_value_freq < 0.05:\n",
    "    print(\"Reject H₀: Significant differences in Claim Frequency between Women and Men.\")\n",
    "else:\n",
    "    print(\"Fail to reject H₀: No significant differences in Claim Frequency.\")"
   ]
  },
  {
   "cell_type": "code",
   "execution_count": null,
   "id": "491a5dc2",
   "metadata": {},
   "outputs": [],
   "source": []
  }
 ],
 "metadata": {
  "kernelspec": {
   "display_name": "venv",
   "language": "python",
   "name": "python3"
  },
  "language_info": {
   "codemirror_mode": {
    "name": "ipython",
    "version": 3
   },
   "file_extension": ".py",
   "mimetype": "text/x-python",
   "name": "python",
   "nbconvert_exporter": "python",
   "pygments_lexer": "ipython3",
   "version": "3.11.9"
  }
 },
 "nbformat": 4,
 "nbformat_minor": 5
}

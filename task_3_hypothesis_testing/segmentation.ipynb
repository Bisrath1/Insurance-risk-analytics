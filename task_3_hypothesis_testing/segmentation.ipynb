{
 "cells": [
  {
   "cell_type": "code",
   "execution_count": 3,
   "id": "c4da2c65",
   "metadata": {},
   "outputs": [],
   "source": [
    "# task_3_hypothesis_testing/calculate_metrics.py\n",
    "import pandas as pd\n",
    "import numpy as np\n",
    "from pathlib import Path"
   ]
  },
  {
   "cell_type": "code",
   "execution_count": 4,
   "id": "6ac9fa8e",
   "metadata": {},
   "outputs": [],
   "source": [
    "# Load data (assuming DVC-tracked data)\n",
    "data =  pd.read_csv(r\"C:\\10x AIMastery\\Insurance-risk-analytics\\data\\insurance_data.csv.dvc\") # Update path as needed"
   ]
  },
  {
   "cell_type": "code",
   "execution_count": 1,
   "id": "f882c8f9",
   "metadata": {},
   "outputs": [],
   "source": [
    "# task_3_hypothesis_testing/segmentation.py\n",
    "from scipy.stats import chi2_contingency\n"
   ]
  },
  {
   "cell_type": "code",
   "execution_count": 6,
   "id": "ef074ac8",
   "metadata": {},
   "outputs": [],
   "source": [
    "# Create required columns\n",
    "data['HasClaim'] = data['TotalClaims'] > 0\n",
    "data['Margin'] = data['TotalPremium'] - data['TotalClaims']"
   ]
  },
  {
   "cell_type": "code",
   "execution_count": 8,
   "id": "8c522256",
   "metadata": {},
   "outputs": [
    {
     "name": "stdout",
     "output_type": "stream",
     "text": [
      "Province Segmentation:\n",
      "        Province  ClaimFrequency  ClaimSeverity  Margin  SampleSize\n",
      "0  KwaZulu-Natal             1.0          300.0   900.0           3\n"
     ]
    }
   ],
   "source": [
    "# Segment by Province\n",
    "province_groups = data.groupby('Province').agg({\n",
    "    'HasClaim': 'mean',  # Claim Frequency\n",
    "    'TotalClaims': lambda x: x[x > 0].mean() if x[x > 0].size > 0 else np.nan,  # Claim Severity\n",
    "    'Margin': 'mean',    # Average Margin\n",
    "    'Province': 'count'  # Sample size (using Province as proxy for PolicyID)\n",
    "}).rename(columns={\n",
    "    'HasClaim': 'ClaimFrequency',\n",
    "    'TotalClaims': 'ClaimSeverity',\n",
    "    'Margin': 'Margin',\n",
    "    'Province': 'SampleSize'\n",
    "}).reset_index()\n",
    "\n",
    "print(\"Province Segmentation:\")\n",
    "print(province_groups)\n",
    "\n",
    "# Save segmentation results\n",
    "province_groups.to_csv(r\"C:\\10x AIMastery\\Insurance-risk-analytics\\task_3_hypothesis_testing\\province_segmentation.csv\", index=False)"
   ]
  },
  {
   "cell_type": "code",
   "execution_count": 9,
   "id": "28ef51e0",
   "metadata": {},
   "outputs": [
    {
     "name": "stdout",
     "output_type": "stream",
     "text": [
      "Chi-squared test for Gender distribution across Provinces: p-value = 1.0000\n"
     ]
    }
   ],
   "source": [
    "# Check for confounding variables (e.g., Gender distribution across provinces)\n",
    "gender_province_crosstab = pd.crosstab(data['Province'], data['Gender'])\n",
    "chi2, p, dof, expected = chi2_contingency(gender_province_crosstab)\n",
    "print(f\"Chi-squared test for Gender distribution across Provinces: p-value = {p:.4f}\")\n",
    "if p < 0.05:\n",
    "    print(\"Warning: Gender distribution differs significantly across provinces.\")"
   ]
  },
  {
   "cell_type": "code",
   "execution_count": null,
   "id": "4a1bc7a7",
   "metadata": {},
   "outputs": [],
   "source": []
  }
 ],
 "metadata": {
  "kernelspec": {
   "display_name": "venv",
   "language": "python",
   "name": "python3"
  },
  "language_info": {
   "codemirror_mode": {
    "name": "ipython",
    "version": 3
   },
   "file_extension": ".py",
   "mimetype": "text/x-python",
   "name": "python",
   "nbconvert_exporter": "python",
   "pygments_lexer": "ipython3",
   "version": "3.11.9"
  }
 },
 "nbformat": 4,
 "nbformat_minor": 5
}

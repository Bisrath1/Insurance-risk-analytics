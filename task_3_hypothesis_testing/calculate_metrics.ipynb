{
 "cells": [
  {
   "cell_type": "code",
   "execution_count": 9,
   "id": "74c61c56",
   "metadata": {},
   "outputs": [],
   "source": [
    "# task_3_hypothesis_testing/calculate_metrics.py\n",
    "import pandas as pd\n",
    "import numpy as np\n",
    "from pathlib import Path"
   ]
  },
  {
   "cell_type": "code",
   "execution_count": 3,
   "id": "7a97d920",
   "metadata": {},
   "outputs": [],
   "source": [
    "# Load data (assuming DVC-tracked data)\n",
    "data =  pd.read_csv(r\"C:\\10x AIMastery\\Insurance-risk-analytics\\data\\insurance_data.csv.dvc\") # Update path as needed"
   ]
  },
  {
   "cell_type": "code",
   "execution_count": 4,
   "id": "d281f5a4",
   "metadata": {},
   "outputs": [
    {
     "name": "stdout",
     "output_type": "stream",
     "text": [
      "Overall Claim Frequency: 0.4286\n"
     ]
    }
   ],
   "source": [
    "# Calculate Claim Frequency\n",
    "data['HasClaim'] = data['TotalClaims'] > 0\n",
    "claim_frequency = data['HasClaim'].mean()\n",
    "print(f\"Overall Claim Frequency: {claim_frequency:.4f}\")"
   ]
  },
  {
   "cell_type": "code",
   "execution_count": 5,
   "id": "539145de",
   "metadata": {},
   "outputs": [
    {
     "name": "stdout",
     "output_type": "stream",
     "text": [
      "Overall Claim Severity: 300.00\n"
     ]
    }
   ],
   "source": [
    "# Calculate Claim Severity\n",
    "claim_severity = data.loc[data['HasClaim'], 'TotalClaims'].mean()\n",
    "print(f\"Overall Claim Severity: {claim_severity:.2f}\")"
   ]
  },
  {
   "cell_type": "code",
   "execution_count": 6,
   "id": "374b6da7",
   "metadata": {},
   "outputs": [
    {
     "name": "stdout",
     "output_type": "stream",
     "text": [
      "Overall Margin: 900.00\n"
     ]
    }
   ],
   "source": [
    "# Calculate Margin\n",
    "data['Margin'] = data['TotalPremium'] - data['TotalClaims']\n",
    "overall_margin = data['Margin'].mean()\n",
    "print(f\"Overall Margin: {overall_margin:.2f}\")"
   ]
  },
  {
   "cell_type": "code",
   "execution_count": 12,
   "id": "af1c3a2d",
   "metadata": {},
   "outputs": [],
   "source": [
    "# Save metrics for reference\n",
    "metrics_summary = {\n",
    "    'ClaimFrequency': claim_frequency,\n",
    "    'ClaimSeverity': claim_severity,\n",
    "    'OverallMargin': overall_margin\n",
    "}\n",
    "pd.DataFrame([metrics_summary]).to_csv(r\"C:\\10x AIMastery\\Insurance-risk-analytics\\task_3_hypothesis_testing\\metrics_summary.csv\", index=False)"
   ]
  },
  {
   "cell_type": "code",
   "execution_count": null,
   "id": "390b6aa6",
   "metadata": {},
   "outputs": [],
   "source": []
  }
 ],
 "metadata": {
  "kernelspec": {
   "display_name": "venv",
   "language": "python",
   "name": "python3"
  },
  "language_info": {
   "codemirror_mode": {
    "name": "ipython",
    "version": 3
   },
   "file_extension": ".py",
   "mimetype": "text/x-python",
   "name": "python",
   "nbconvert_exporter": "python",
   "pygments_lexer": "ipython3",
   "version": "3.11.9"
  }
 },
 "nbformat": 4,
 "nbformat_minor": 5
}

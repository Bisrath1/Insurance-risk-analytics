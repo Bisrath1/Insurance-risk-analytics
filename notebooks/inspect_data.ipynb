{
 "cells": [
  {
   "cell_type": "code",
   "execution_count": null,
   "id": "35d43ea3",
   "metadata": {},
   "outputs": [
    {
     "name": "stdout",
     "output_type": "stream",
     "text": [
      "Columns: ['outs:']\n",
      "\n",
      "First 5 rows:\n",
      "                                      outs:\n",
      "0  - md5: d751eaf66d5774270f9d0a682dbe7b62\n",
      "1                                 size: 73\n",
      "2                                hash: md5\n",
      "3                 path: insurance_data.csv\n"
     ]
    }
   ],
   "source": [
    "import pandas as pd\n",
    "\n",
    "# Load the dataset\n",
    "df = pd.read_csv(r\"C:\\10x AIMastery\\Insurance-risk-analytics\\data\\insurance_data.csv.dvc\")\n",
    "\n",
    "# Print columns and first few rows\n",
    "print(\"tColumns:\", df.columns.tolist())\n",
    "print(\"\\nFirst 5 rows:\\n\", df.head())\n"
   ]
  },
  {
   "cell_type": "code",
   "execution_count": 11,
   "id": "da93b353",
   "metadata": {},
   "outputs": [],
   "source": [
    "import pandas as pd\n",
    "\n",
    "new_row = pd.DataFrame({'TotalPremium': [1200], 'TotalClaims': [300], 'Province': ['KwaZulu-Natal']})\n",
    "df = pd.concat([df, new_row], ignore_index=True)\n",
    "df.to_csv((r\"C:\\10x AIMastery\\Insurance-risk-analytics\\data\\insurance_data.csv.dvc\"), index=False)"
   ]
  },
  {
   "cell_type": "code",
   "execution_count": null,
   "id": "9acf14f7",
   "metadata": {},
   "outputs": [],
   "source": []
  }
 ],
 "metadata": {
  "kernelspec": {
   "display_name": "venv",
   "language": "python",
   "name": "python3"
  },
  "language_info": {
   "codemirror_mode": {
    "name": "ipython",
    "version": 3
   },
   "file_extension": ".py",
   "mimetype": "text/x-python",
   "name": "python",
   "nbconvert_exporter": "python",
   "pygments_lexer": "ipython3",
   "version": "3.11.9"
  }
 },
 "nbformat": 4,
 "nbformat_minor": 5
}

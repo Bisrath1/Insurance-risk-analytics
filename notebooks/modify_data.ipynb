{
 "cells": [
  {
   "cell_type": "code",
   "execution_count": 3,
   "id": "57a80a5e",
   "metadata": {},
   "outputs": [
    {
     "name": "stdout",
     "output_type": "stream",
     "text": [
      "Modified dataset saved with new row.\n",
      "New row added:\n",
      "    TotalPremium  TotalClaims       Province Gender VehicleType  \\\n",
      "0        1200.0        300.0  KwaZulu-Natal   Male   Passenger   \n",
      "\n",
      "   RegistrationYear  SumInsured      CoverType TransactionMonth PostalCode  \n",
      "0              2015     50000.0  Comprehensive       2015-07-01       4001  \n"
     ]
    }
   ],
   "source": [
    "import pandas as pd\n",
    "\n",
    "# Load the dataset\n",
    "df = pd.read_csv(r\"C:\\10x AIMastery\\Insurance-risk-analytics\\data\\insurance_data.csv.dvc\")\n",
    "\n",
    "# Define a new row with key columns (adjust based on your dataset's columns)\n",
    "new_row = pd.DataFrame({\n",
    "    'TotalPremium': [1200.0],\n",
    "    'TotalClaims': [300.0],\n",
    "    'Province': ['KwaZulu-Natal'],\n",
    "    'Gender': ['Male'],\n",
    "    'VehicleType': ['Passenger'],\n",
    "    'RegistrationYear': [2015],\n",
    "    'SumInsured': [50000.0],\n",
    "    'CoverType': ['Comprehensive'],\n",
    "    'TransactionMonth': ['2015-07-01'],\n",
    "    'PostalCode': ['4001']\n",
    "    # Add other columns as needed, matching the dataset's structure\n",
    "})\n",
    "\n",
    "# Append the new row\n",
    "df = pd.concat([df, new_row], ignore_index=True)\n",
    "\n",
    "# Save the modified dataset\n",
    "df.to_csv(r\"C:\\10x AIMastery\\Insurance-risk-analytics\\data\\insurance_data.csv.dvc\", index=False)\n",
    "\n",
    "print(\"Modified dataset saved with new row.\")\n",
    "print(\"New row added:\\n\", new_row)"
   ]
  },
  {
   "cell_type": "code",
   "execution_count": null,
   "id": "926a9dd4",
   "metadata": {},
   "outputs": [],
   "source": []
  }
 ],
 "metadata": {
  "kernelspec": {
   "display_name": "venv",
   "language": "python",
   "name": "python3"
  },
  "language_info": {
   "codemirror_mode": {
    "name": "ipython",
    "version": 3
   },
   "file_extension": ".py",
   "mimetype": "text/x-python",
   "name": "python",
   "nbconvert_exporter": "python",
   "pygments_lexer": "ipython3",
   "version": "3.11.9"
  }
 },
 "nbformat": 4,
 "nbformat_minor": 5
}

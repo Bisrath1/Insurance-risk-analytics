{
 "cells": [
  {
   "cell_type": "code",
   "execution_count": 1,
   "id": "42a17ba5",
   "metadata": {},
   "outputs": [
    {
     "name": "stdout",
     "output_type": "stream",
     "text": [
      "   age     sex     bmi  children smoker     region      charges\n",
      "0   19  female  27.900         0    yes  southwest  16884.92400\n",
      "1   18    male  33.770         1     no  southeast   1725.55230\n",
      "2   28    male  33.000         3     no  southeast   4449.46200\n",
      "3   33    male  22.705         0     no  northwest  21984.47061\n",
      "4   32    male  28.880         0     no  northwest   3866.85520\n",
      "<class 'pandas.core.frame.DataFrame'>\n",
      "RangeIndex: 1338 entries, 0 to 1337\n",
      "Data columns (total 7 columns):\n",
      " #   Column    Non-Null Count  Dtype  \n",
      "---  ------    --------------  -----  \n",
      " 0   age       1338 non-null   int64  \n",
      " 1   sex       1338 non-null   object \n",
      " 2   bmi       1338 non-null   float64\n",
      " 3   children  1338 non-null   int64  \n",
      " 4   smoker    1338 non-null   object \n",
      " 5   region    1338 non-null   object \n",
      " 6   charges   1338 non-null   float64\n",
      "dtypes: float64(2), int64(2), object(3)\n",
      "memory usage: 73.3+ KB\n",
      "None\n"
     ]
    }
   ],
   "source": [
    "import pandas as pd\n",
    "import numpy as np\n",
    "import matplotlib.pyplot as plt\n",
    "import seaborn as sns\n",
    "\n",
    "# Load data\n",
    "df = pd.read_csv(r\"C:\\10x AIMastery\\Insurance-risk-analytics\\SM\\data\\insurance.csv\")\n",
    "\n",
    "print(df.head())\n",
    "print(df.info())"
   ]
  },
  {
   "cell_type": "code",
   "execution_count": 4,
   "id": "c1225fc3",
   "metadata": {},
   "outputs": [
    {
     "name": "stdout",
     "output_type": "stream",
     "text": [
      "Descriptive Statistics:\n",
      "                age          bmi     children       charges\n",
      "count  1338.000000  1338.000000  1338.000000   1338.000000\n",
      "mean     39.207025    30.663397     1.094918  13270.422265\n",
      "std      14.049960     6.098187     1.205493  12110.011237\n",
      "min      18.000000    15.960000     0.000000   1121.873900\n",
      "25%      27.000000    26.296250     0.000000   4740.287150\n",
      "50%      39.000000    30.400000     1.000000   9382.033000\n",
      "75%      51.000000    34.693750     2.000000  16639.912515\n",
      "max      64.000000    53.130000     5.000000  63770.428010\n",
      "Coefficient of Variation:\n",
      " age         0.358353\n",
      "bmi         0.198875\n",
      "children    1.100989\n",
      "charges     0.912557\n",
      "dtype: float64\n",
      "\n",
      "Data Types:\n",
      " age           int64\n",
      "sex          object\n",
      "bmi         float64\n",
      "children      int64\n",
      "smoker       object\n",
      "region       object\n",
      "charges     float64\n",
      "dtype: object\n"
     ]
    }
   ],
   "source": [
    "# --- Data Summarization ---\n",
    "# Descriptive Statistics: Calculate mean, median, std, min, max, and quartiles for numerical features\n",
    "numerical_cols = ['age', 'bmi', 'children', 'charges']\n",
    "desc_stats = df[numerical_cols].describe()\n",
    "print(\"Descriptive Statistics:\\n\", desc_stats)\n",
    "\n",
    "# Calculate variability (coefficient of variation = std/mean)\n",
    "variability = df[numerical_cols].std() / df[numerical_cols].mean()\n",
    "print(\"Coefficient of Variation:\\n\", variability)\n",
    "\n",
    "# Data Structure: Verify data types\n",
    "print(\"\\nData Types:\\n\", df.dtypes)"
   ]
  },
  {
   "cell_type": "code",
   "execution_count": 5,
   "id": "ab627766",
   "metadata": {},
   "outputs": [
    {
     "name": "stdout",
     "output_type": "stream",
     "text": [
      "\n",
      "Missing Values:\n",
      " age         0\n",
      "sex         0\n",
      "bmi         0\n",
      "children    0\n",
      "smoker      0\n",
      "region      0\n",
      "charges     0\n",
      "dtype: int64\n",
      "Missing Percentage:\n",
      " age         0.0\n",
      "sex         0.0\n",
      "bmi         0.0\n",
      "children    0.0\n",
      "smoker      0.0\n",
      "region      0.0\n",
      "charges     0.0\n",
      "dtype: float64\n"
     ]
    }
   ],
   "source": [
    "# --- Data Quality Assessment ---\n",
    "# Check for missing values\n",
    "missing_values = df.isnull().sum()\n",
    "print(\"\\nMissing Values:\\n\", missing_values)\n",
    "missing_percentage = (df.isnull().sum() / len(df)) * 100\n",
    "print(\"Missing Percentage:\\n\", missing_percentage)"
   ]
  },
  {
   "cell_type": "code",
   "execution_count": 6,
   "id": "de33e988",
   "metadata": {},
   "outputs": [
    {
     "name": "stdout",
     "output_type": "stream",
     "text": [
      "\n",
      "Number of duplicate rows: 1\n"
     ]
    }
   ],
   "source": [
    "# Handle missing values\n",
    "df['charges'] = df['charges'].fillna(df['charges'].median())\n",
    "df['sex'] = df['sex'].fillna(df['sex'].mode()[0])\n",
    "df['smoker'] = df['smoker'].fillna(df['smoker'].mode()[0])\n",
    "df['region'] = df['region'].fillna(df['region'].mode()[0])\n",
    "\n",
    "# Check for duplicates\n",
    "duplicates = df.duplicated().sum()\n",
    "print(f\"\\nNumber of duplicate rows: {duplicates}\")\n",
    "if duplicates > 0:\n",
    "    df = df.drop_duplicates()\n"
   ]
  },
  {
   "cell_type": "code",
   "execution_count": 8,
   "id": "2d1982c0",
   "metadata": {},
   "outputs": [],
   "source": [
    "import os\n",
    "\n",
    "# Create figures directory if it doesn't exist\n",
    "os.makedirs('figures', exist_ok=True)\n",
    "\n",
    "# Univariate Analysis\n",
    "# Numerical Columns: Histograms with KDE\n",
    "plt.figure(figsize=(12, 8))\n",
    "for i, col in enumerate(numerical_cols, 1):\n",
    "    plt.subplot(2, 2, i)\n",
    "    sns.histplot(df[col], kde=True)\n",
    "    plt.title(f'Distribution of {col}')\n",
    "plt.tight_layout()\n",
    "plt.savefig('figures/univariate_numerical.png')\n",
    "plt.close()\n",
    "\n",
    "# Categorical Columns: Bar charts\n",
    "categorical_cols = ['sex', 'smoker', 'region']\n",
    "plt.figure(figsize=(12, 8))\n",
    "for i, col in enumerate(categorical_cols, 1):\n",
    "    plt.subplot(2, 2, i)\n",
    "    sns.countplot(data=df, x=col)\n",
    "    plt.title(f'Count of {col}')\n",
    "    plt.xticks(rotation=45)\n",
    "plt.tight_layout()\n",
    "plt.savefig('figures/univariate_categorical.png')\n",
    "plt.close()"
   ]
  },
  {
   "cell_type": "code",
   "execution_count": 9,
   "id": "a0b4d684",
   "metadata": {},
   "outputs": [
    {
     "name": "stdout",
     "output_type": "stream",
     "text": [
      "\n",
      "Average Charges by Region:\n",
      " region\n",
      "northeast    13406.384516\n",
      "northwest    12450.840844\n",
      "southeast    14735.411438\n",
      "southwest    12346.937377\n",
      "Name: charges, dtype: float64\n",
      "Average Charges by Sex:\n",
      " sex\n",
      "female    12569.578844\n",
      "male      13974.998864\n",
      "Name: charges, dtype: float64\n",
      "Average Charges by Smoker:\n",
      " smoker\n",
      "no      8440.660307\n",
      "yes    32050.231832\n",
      "Name: charges, dtype: float64\n"
     ]
    }
   ],
   "source": [
    "# Bivariate/Multivariate Analysis\n",
    "# Average charges by region, sex, and smoker status\n",
    "charges_by_region = df.groupby('region')['charges'].mean()\n",
    "charges_by_sex = df.groupby('sex')['charges'].mean()\n",
    "charges_by_smoker = df.groupby('smoker')['charges'].mean()\n",
    "print(\"\\nAverage Charges by Region:\\n\", charges_by_region)\n",
    "print(\"Average Charges by Sex:\\n\", charges_by_sex)\n",
    "print(\"Average Charges by Smoker:\\n\", charges_by_smoker)\n",
    "\n",
    "# Correlation matrix for numerical variables\n",
    "correlation_matrix = df[numerical_cols].corr()\n",
    "plt.figure(figsize=(10, 8))\n",
    "sns.heatmap(correlation_matrix, annot=True, cmap='coolwarm', vmin=-1, vmax=1)\n",
    "plt.title('Correlation Matrix')\n",
    "plt.savefig('figures/correlation_matrix.png')\n",
    "plt.close()\n",
    "\n",
    "# Scatter plot for charges vs. bmi by region\n",
    "plt.figure(figsize=(10, 6))\n",
    "sns.scatterplot(data=df, x='bmi', y='charges', hue='region', alpha=0.6)\n",
    "plt.title('Charges vs BMI by Region')\n",
    "plt.savefig('figures/scatter_bmi_charges.png')\n",
    "plt.close()"
   ]
  },
  {
   "cell_type": "code",
   "execution_count": 10,
   "id": "7e7a874f",
   "metadata": {},
   "outputs": [],
   "source": [
    "# Outlier Detection\n",
    "# Box plots for charges and bmi\n",
    "plt.figure(figsize=(12, 6))\n",
    "plt.subplot(1, 2, 1)\n",
    "sns.boxplot(y=df['charges'])\n",
    "plt.title('Box Plot of Charges')\n",
    "plt.subplot(1, 2, 2)\n",
    "sns.boxplot(y=df['bmi'])\n",
    "plt.title('Box Plot of BMI')\n",
    "plt.tight_layout()\n",
    "plt.savefig('figures/outlier_boxplots.png')\n",
    "plt.close()\n",
    "\n",
    "# Remove outliers in charges using IQR method\n",
    "Q1 = df['charges'].quantile(0.25)\n",
    "Q3 = df['charges'].quantile(0.75)\n",
    "IQR = Q3 - Q1\n",
    "df = df[~((df['charges'] < (Q1 - 1.5 * IQR)) | (df['charges'] > (Q3 + 1.5 * IQR)))]"
   ]
  },
  {
   "cell_type": "code",
   "execution_count": 11,
   "id": "b9cd3381",
   "metadata": {},
   "outputs": [],
   "source": [
    "# Data Comparison (Trends Over Geography)\n",
    "# Average charges by region\n",
    "premium_by_region = df.groupby('region')['charges'].mean()\n",
    "plt.figure(figsize=(10, 6))\n",
    "premium_by_region.plot(kind='bar')\n",
    "plt.title('Average Charges by Region')\n",
    "plt.ylabel('Average Charges')\n",
    "plt.xticks(rotation=45)\n",
    "plt.savefig('figures/charges_by_region_bar.png')\n",
    "plt.close()"
   ]
  },
  {
   "cell_type": "code",
   "execution_count": 12,
   "id": "3c20c7b3",
   "metadata": {},
   "outputs": [
    {
     "name": "stderr",
     "output_type": "stream",
     "text": [
      "C:\\Users\\user\\AppData\\Local\\Temp\\ipykernel_21564\\4152956746.py:4: FutureWarning: \n",
      "\n",
      "Passing `palette` without assigning `hue` is deprecated and will be removed in v0.14.0. Assign the `x` variable to `hue` and set `legend=False` for the same effect.\n",
      "\n",
      "  sns.barplot(x=charges_by_region.index, y=charges_by_region.values, palette='viridis')\n"
     ]
    }
   ],
   "source": [
    "# Creative Visualizations\n",
    "# Visualization 1: Average Charges by Region (Bar Chart)\n",
    "plt.figure(figsize=(10, 6))\n",
    "sns.barplot(x=charges_by_region.index, y=charges_by_region.values, palette='viridis')\n",
    "plt.title('Average Charges by Region')\n",
    "plt.xlabel('Region')\n",
    "plt.ylabel('Average Charges')\n",
    "plt.xticks(rotation=45)\n",
    "plt.savefig('figures/creative_viz1_charges_by_region.png')\n",
    "plt.close()"
   ]
  },
  {
   "cell_type": "code",
   "execution_count": 13,
   "id": "2b00ab0b",
   "metadata": {},
   "outputs": [
    {
     "name": "stderr",
     "output_type": "stream",
     "text": [
      "C:\\Users\\user\\AppData\\Local\\Temp\\ipykernel_21564\\956967158.py:3: FutureWarning: \n",
      "\n",
      "Passing `palette` without assigning `hue` is deprecated and will be removed in v0.14.0. Assign the `x` variable to `hue` and set `legend=False` for the same effect.\n",
      "\n",
      "  sns.boxplot(x='smoker', y='charges', data=df, palette='Set2')\n"
     ]
    }
   ],
   "source": [
    "# Visualization 2: Charges Distribution by Smoker Status (Box Plot)\n",
    "plt.figure(figsize=(10, 6))\n",
    "sns.boxplot(x='smoker', y='charges', data=df, palette='Set2')\n",
    "plt.title('Charges Distribution by Smoker Status')\n",
    "plt.xlabel('Smoker')\n",
    "plt.ylabel('Charges')\n",
    "plt.savefig('figures/creative_viz2_charges_by_smoker.png')\n",
    "plt.close()"
   ]
  },
  {
   "cell_type": "code",
   "execution_count": 14,
   "id": "9338017e",
   "metadata": {},
   "outputs": [],
   "source": [
    "# Visualization 3: Charges vs Age by Smoker Status (Scatter Plot)\n",
    "plt.figure(figsize=(10, 6))\n",
    "sns.scatterplot(data=df, x='age', y='charges', hue='smoker', style='smoker', size='bmi', sizes=(20, 200))\n",
    "plt.title('Charges vs Age by Smoker Status')\n",
    "plt.xlabel('Age')\n",
    "plt.ylabel('Charges')\n",
    "plt.legend(title='Smoker')\n",
    "plt.savefig('figures/creative_viz3_charges_vs_age.png')\n",
    "plt.close()"
   ]
  },
  {
   "cell_type": "code",
   "execution_count": null,
   "id": "025a8312",
   "metadata": {},
   "outputs": [],
   "source": []
  }
 ],
 "metadata": {
  "kernelspec": {
   "display_name": "venv",
   "language": "python",
   "name": "python3"
  },
  "language_info": {
   "codemirror_mode": {
    "name": "ipython",
    "version": 3
   },
   "file_extension": ".py",
   "mimetype": "text/x-python",
   "name": "python",
   "nbconvert_exporter": "python",
   "pygments_lexer": "ipython3",
   "version": "3.11.9"
  }
 },
 "nbformat": 4,
 "nbformat_minor": 5
}
